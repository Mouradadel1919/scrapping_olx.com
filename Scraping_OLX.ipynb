{
 "cells": [
  {
   "cell_type": "code",
   "execution_count": 1,
   "id": "58cb0f2c",
   "metadata": {},
   "outputs": [],
   "source": [
    "import pandas as pd\n",
    "from selenium.webdriver.common.keys import Keys \n",
    "from selenium.webdriver.chrome.options import Options\n",
    "\n",
    "# pip install webdriver-manager\n",
    "from selenium import webdriver\n",
    "from selenium.webdriver.chrome.service import Service\n",
    "from webdriver_manager.chrome import ChromeDriverManager\n",
    "from selenium.webdriver.common.by import By\n",
    "\n",
    "from selenium.webdriver.support.ui import Select\n",
    "from selenium.webdriver.support.ui import WebDriverWait\n",
    "from selenium.webdriver.support import expected_conditions as EC\n",
    "import numpy as np\n",
    "from selenium.webdriver.common.action_chains import ActionChains\n",
    "import pickle\n",
    "import time \n",
    "\n",
    "import re\n",
    "\n",
    "import urllib.request\n",
    "import os\n",
    "from bs4 import BeautifulSoup\n",
    "from tqdm import tqdm\n",
    "import numpy as np\n",
    "from time import sleep\n",
    "import argparse\n",
    "import shutil\n",
    "import pandas as pd\n",
    "import time\n",
    "from selenium.webdriver.common.keys import Keys\n",
    "import urllib.request\n",
    "import glob\n",
    "\n",
    "import urllib.request\n"
   ]
  },
  {
   "cell_type": "code",
   "execution_count": 2,
   "id": "81abba5b",
   "metadata": {},
   "outputs": [
    {
     "name": "stderr",
     "output_type": "stream",
     "text": [
      "C:\\Users\\ENG~1.MOU\\AppData\\Local\\Temp/ipykernel_5236/388229857.py:4: DeprecationWarning: use options instead of chrome_options\n",
      "  driver = webdriver.Chrome(service=s, chrome_options=option)\n"
     ]
    }
   ],
   "source": [
    "s=Service(ChromeDriverManager().install())\n",
    "\n",
    "option = Options()\n",
    "driver = webdriver.Chrome(service=s, chrome_options=option)\n",
    "driver.create_options()\n",
    "\n",
    "driver.maximize_window()"
   ]
  },
  {
   "cell_type": "markdown",
   "id": "5ec42bc5",
   "metadata": {},
   "source": [
    "# Functions"
   ]
  },
  {
   "cell_type": "code",
   "execution_count": 3,
   "id": "99559614",
   "metadata": {},
   "outputs": [],
   "source": [
    "wait = WebDriverWait(driver,10)"
   ]
  },
  {
   "cell_type": "code",
   "execution_count": 4,
   "id": "85d871bf",
   "metadata": {},
   "outputs": [],
   "source": [
    "def found():\n",
    "    global x\n",
    "    number_of_ads = wait.until(EC.visibility_of_element_located((By.XPATH,\"//div[@class='_76047990']\")))\n",
    "    txt = number_of_ads.text\n",
    "    print(\"Hi I found \" + txt)\n",
    "    \n",
    "    num = txt.split(\" \")\n",
    "    x = int(float(num[0].replace(',', '.')))\n"
   ]
  },
  {
   "cell_type": "code",
   "execution_count": 5,
   "id": "4a903b1d",
   "metadata": {},
   "outputs": [],
   "source": [
    "def not_found():\n",
    "    no_results = wait.until(EC.visibility_of_element_located((By.TAG_NAME,\"h3\")))\n",
    "    print(no_results.text)\n",
    "    driver.quit()"
   ]
  },
  {
   "cell_type": "code",
   "execution_count": 6,
   "id": "94576504",
   "metadata": {},
   "outputs": [],
   "source": [
    "def scrape_or_not():\n",
    "    print(\"1 ==> Scrape all products \")\n",
    "    print(\"2 ==> Scrape products by number\")\n",
    "    print(\"3 ==> close the page \")\n",
    "    \n",
    "    choice = int(input())\n",
    "    if choice == 1:\n",
    "        scrape_all(x)\n",
    "    elif choice == 2:\n",
    "        scrape_by_num()\n",
    "    elif choice == 3:\n",
    "        driver.close()\n"
   ]
  },
  {
   "cell_type": "code",
   "execution_count": 7,
   "id": "979ec04e",
   "metadata": {},
   "outputs": [],
   "source": [
    "def search_something():\n",
    "    text = input(\"What do you want to search about\")\n",
    "    search_element = wait.until(EC.visibility_of_element_located((By.XPATH,\"//input[@type='search']\")))\n",
    "    search_element.send_keys(text)\n",
    "    \n",
    "    button = wait.until(EC.visibility_of_element_located((By.CLASS_NAME, \"a3e390b5\")))\n",
    "    button.click()\n",
    "    \n",
    "    time.sleep(3)\n",
    "    \n",
    "    try:\n",
    "        found()\n",
    "        scrape_or_not()\n",
    "    except:\n",
    "        not_found()"
   ]
  },
  {
   "cell_type": "code",
   "execution_count": 8,
   "id": "7b92e98f",
   "metadata": {},
   "outputs": [],
   "source": [
    "def scrape_all(number):\n",
    "    try:\n",
    "        wait.until(EC.visibility_of_element_located((By.XPATH,\"//div[@title='Next']\")))\n",
    "        \n",
    "        while continue_scraping(number):\n",
    "            get_names(number)\n",
    "            get_prices(number)\n",
    "            get_links(number)\n",
    "            get_infos(number)\n",
    "            get_pictures(number)\n",
    "            if len(links) != number:\n",
    "                driver.execute_script(\"window.scrollTo(0,8000)\")\n",
    "                click_button = wait.until(EC.visibility_of_element_located((By.XPATH,\"//div[@title='Next']\")))        \n",
    "                click_button.click() \n",
    "            else:\n",
    "                break\n",
    "    except:\n",
    "            get_names(number)\n",
    "            get_prices(number)\n",
    "            get_links(number)\n",
    "            get_infos(number)\n",
    "            get_pictures(number)\n",
    "            \n",
    "            \n",
    "            print(\"finish\")\n",
    "            time.sleep(2)\n",
    "            driver.close()"
   ]
  },
  {
   "cell_type": "code",
   "execution_count": 9,
   "id": "29f4b813",
   "metadata": {},
   "outputs": [],
   "source": [
    "def scrape_by_num():\n",
    "    number = int(input(\"How much elemnts do you want to scrap?\"))\n",
    "    try:\n",
    "        wait.until(EC.visibility_of_element_located((By.XPATH,\"//div[@title='Next']\")))\n",
    "        \n",
    "        while continue_scraping(number):\n",
    "            get_names(number)\n",
    "            get_prices(number)\n",
    "            get_links(number)\n",
    "            get_infos(number)\n",
    "            get_pictures(number)\n",
    "            if len(links) != number:\n",
    "                driver.execute_script(\"window.scrollTo(0,8000)\")\n",
    "                click_button = wait.until(EC.visibility_of_element_located((By.XPATH,\"//div[@title='Next']\")))        \n",
    "                click_button.click() \n",
    "            else:\n",
    "                break\n",
    "    except:\n",
    "            get_names(number)\n",
    "            get_prices(number)\n",
    "            get_links(number)\n",
    "            get_infos(number)\n",
    "            get_pictures(number)\n",
    "            \n",
    "            \n",
    "            print(\"finish\")\n",
    "            time.sleep(2)\n",
    "            driver.close()"
   ]
  },
  {
   "cell_type": "code",
   "execution_count": 10,
   "id": "71fb3e3b",
   "metadata": {},
   "outputs": [],
   "source": [
    "def continue_scraping(number):\n",
    "    if len(links) < number:\n",
    "        return True\n",
    "    else:\n",
    "        return False"
   ]
  },
  {
   "cell_type": "markdown",
   "id": "06b4163f",
   "metadata": {},
   "source": [
    "# Gets"
   ]
  },
  {
   "cell_type": "code",
   "execution_count": 11,
   "id": "18637372",
   "metadata": {},
   "outputs": [],
   "source": [
    "prices = []"
   ]
  },
  {
   "cell_type": "code",
   "execution_count": 12,
   "id": "1ba9b659",
   "metadata": {},
   "outputs": [],
   "source": [
    "def get_prices(number):\n",
    "    \n",
    "    above_prices_class_in_page = wait.until(EC.visibility_of_all_elements_located((By.CSS_SELECTOR, \"div._41d2b9f3\")))\n",
    "    \n",
    "    for price in range(len(above_prices_class_in_page)):\n",
    "        if (number == 0 or len(prices) < number ):\n",
    "            try :\n",
    "                above_prices_class_in_page[price].find_element(By.CSS_SELECTOR, \"div._52497c97\")\n",
    "                prices.append(above_prices_class_in_page[price].find_element(By.CSS_SELECTOR, \"div._52497c97\").text)\n",
    "            except:\n",
    "                prices.append('Null')\n",
    "        else:\n",
    "            break\n",
    "#     for ele in prices:\n",
    "#         if ele == \"NEGOTIABLE\":\n",
    "#             prices.remove(ele)\n",
    "#         else:\n",
    "#             pass\n"
   ]
  },
  {
   "cell_type": "code",
   "execution_count": 13,
   "id": "b1239249",
   "metadata": {},
   "outputs": [],
   "source": [
    "names = []"
   ]
  },
  {
   "cell_type": "code",
   "execution_count": 14,
   "id": "e495b17c",
   "metadata": {},
   "outputs": [],
   "source": [
    "def get_names(number):\n",
    "    all_names_in_page = wait.until(EC.visibility_of_all_elements_located((By.CSS_SELECTOR, \"article div.ee2b0479 a\")))\n",
    "    \n",
    "    for i in range(len(all_names_in_page)):\n",
    "        if (number == 0 or len(names) < number ):\n",
    "            names.append(all_names_in_page[i].get_attribute(\"title\")) \n",
    "        else:\n",
    "            break\n",
    "    "
   ]
  },
  {
   "cell_type": "code",
   "execution_count": 15,
   "id": "ec0f2460",
   "metadata": {},
   "outputs": [],
   "source": [
    "links = []"
   ]
  },
  {
   "cell_type": "code",
   "execution_count": 16,
   "id": "fa2b49fa",
   "metadata": {},
   "outputs": [],
   "source": [
    "def get_links(number):\n",
    "    global links\n",
    "    all_links_in_page = wait.until(EC.visibility_of_all_elements_located((By.CSS_SELECTOR, \"article div.ee2b0479 a\")))\n",
    "    \n",
    "    for i in range(len(all_links_in_page)):\n",
    "        if (number == 0 or len(links) < number ):\n",
    "            links.append(all_links_in_page[i].get_attribute(\"href\")) \n",
    "        else:\n",
    "            break"
   ]
  },
  {
   "cell_type": "code",
   "execution_count": 17,
   "id": "d9d778da",
   "metadata": {},
   "outputs": [],
   "source": [
    "infos = []"
   ]
  },
  {
   "cell_type": "code",
   "execution_count": 18,
   "id": "584362ef",
   "metadata": {},
   "outputs": [],
   "source": [
    "def get_infos(number):\n",
    "    all_infos_in_page = wait.until(EC.visibility_of_all_elements_located((By.CSS_SELECTOR, \"div.a52608cc div._4dbba078\")))\n",
    "    \n",
    "    for i in range(len(all_infos_in_page)):\n",
    "        if (number == 0 or len(infos) < number ):\n",
    "\n",
    "            try :       \n",
    "                all_infos_in_page[i].find_element(By.CSS_SELECTOR, \"div.a52608cc div._4dbba078 div.a8f6df88\").text + \" ... \" + all_infos_in_page[i].find_element(By.CSS_SELECTOR, \"div.a52608cc div._4dbba078 div._2fc90438\").text\n",
    "                infos.append(all_infos_in_page[i].find_element(By.CSS_SELECTOR, \"div.a52608cc div._4dbba078 div.a8f6df88\").text + \" ... \" + all_infos_in_page[i].find_element(By.CSS_SELECTOR, \"div.a52608cc div._4dbba078 div._2fc90438\").text)\n",
    "            except:\n",
    "                infos.append('Null')\n",
    "        else:\n",
    "            break"
   ]
  },
  {
   "cell_type": "code",
   "execution_count": 19,
   "id": "05704ec7",
   "metadata": {},
   "outputs": [],
   "source": [
    "pictures = []"
   ]
  },
  {
   "cell_type": "code",
   "execution_count": 20,
   "id": "d3651cb5",
   "metadata": {},
   "outputs": [],
   "source": [
    "def get_pictures(number):\n",
    "    all_pictures_in_page = wait.until(EC.visibility_of_all_elements_located((By.CSS_SELECTOR, \"div.ee2b0479\")))\n",
    "    \n",
    "    for i in range(len(all_pictures_in_page)):\n",
    "        if (number == 0 or len(pictures) < number ):\n",
    "\n",
    "            try :       \n",
    "                all_pictures_in_page[i].find_element(By.TAG_NAME,\"picture\").find_element(By.TAG_NAME, \"img\")\n",
    "                pictures.append(all_pictures_in_page[i].find_element(By.TAG_NAME,\"picture\").find_element(By.TAG_NAME, \"img\").get_attribute(\"data-src\"))\n",
    "            except:\n",
    "                pictures.append('Null')\n",
    "        else:\n",
    "            break"
   ]
  },
  {
   "cell_type": "markdown",
   "id": "1770dd95",
   "metadata": {},
   "source": [
    "# Gooooooooooooooooooooooooooooo"
   ]
  },
  {
   "cell_type": "code",
   "execution_count": null,
   "id": "5d7676a9",
   "metadata": {},
   "outputs": [],
   "source": []
  },
  {
   "cell_type": "code",
   "execution_count": 21,
   "id": "98190cfa",
   "metadata": {},
   "outputs": [],
   "source": [
    "driver.get(\"https://www.olx.com.eg/en/\")"
   ]
  },
  {
   "cell_type": "code",
   "execution_count": 22,
   "id": "fcd85b5b",
   "metadata": {},
   "outputs": [
    {
     "name": "stdout",
     "output_type": "stream",
     "text": [
      "What do you want to search aboutdayun\n",
      "Hi I found 1,232 ads\n",
      "1 ==> Scrape all products \n",
      "2 ==> Scrape products by number\n",
      "3 ==> close the page \n",
      "2\n",
      "How much elemnts do you want to scrap?250\n"
     ]
    }
   ],
   "source": [
    "search_something()"
   ]
  },
  {
   "cell_type": "code",
   "execution_count": 23,
   "id": "76603815",
   "metadata": {},
   "outputs": [
    {
     "data": {
      "text/plain": [
       "[250, 250, 250, 250, 250]"
      ]
     },
     "execution_count": 23,
     "metadata": {},
     "output_type": "execute_result"
    }
   ],
   "source": [
    "[len(links),\n",
    "len(pictures),\n",
    "len(prices),\n",
    "len(infos), \n",
    "len(names)]"
   ]
  },
  {
   "cell_type": "code",
   "execution_count": 24,
   "id": "38746498",
   "metadata": {},
   "outputs": [],
   "source": [
    "df = pd.DataFrame({\n",
    "    \"names\":names,\n",
    "    \"links\" : links,\n",
    "    \"prices\":prices,\n",
    "    \"infos\":infos,\n",
    "    \"pictures\": pictures\n",
    "    \n",
    "})"
   ]
  },
  {
   "cell_type": "code",
   "execution_count": 25,
   "id": "c715abb2",
   "metadata": {},
   "outputs": [
    {
     "data": {
      "text/html": [
       "<div>\n",
       "<style scoped>\n",
       "    .dataframe tbody tr th:only-of-type {\n",
       "        vertical-align: middle;\n",
       "    }\n",
       "\n",
       "    .dataframe tbody tr th {\n",
       "        vertical-align: top;\n",
       "    }\n",
       "\n",
       "    .dataframe thead th {\n",
       "        text-align: right;\n",
       "    }\n",
       "</style>\n",
       "<table border=\"1\" class=\"dataframe\">\n",
       "  <thead>\n",
       "    <tr style=\"text-align: right;\">\n",
       "      <th></th>\n",
       "      <th>names</th>\n",
       "      <th>links</th>\n",
       "      <th>prices</th>\n",
       "      <th>infos</th>\n",
       "      <th>pictures</th>\n",
       "    </tr>\n",
       "  </thead>\n",
       "  <tbody>\n",
       "    <tr>\n",
       "      <th>0</th>\n",
       "      <td>Dayun max 250 cc</td>\n",
       "      <td>https://www.olx.com.eg/en/ad/dayun-max-250-cc-...</td>\n",
       "      <td>EGP 23,000</td>\n",
       "      <td>NEW\\n•\\n2021 ... Mokattam, Cairo•17 hours ago</td>\n",
       "      <td>https://images.olx.com.eg/thumbnails/35636948-...</td>\n",
       "    </tr>\n",
       "    <tr>\n",
       "      <th>1</th>\n",
       "      <td>Dayun 6</td>\n",
       "      <td>https://www.olx.com.eg/en/ad/dayun-6-ID1929156...</td>\n",
       "      <td>EGP 15,000</td>\n",
       "      <td>50000 to 59999 km\\n•\\n2018 ... Laurent, Alexan...</td>\n",
       "      <td>https://images.olx.com.eg/thumbnails/35559948-...</td>\n",
       "    </tr>\n",
       "    <tr>\n",
       "      <th>2</th>\n",
       "      <td>dayun 2b</td>\n",
       "      <td>https://www.olx.com.eg/en/ad/dayun-2b-ID192889...</td>\n",
       "      <td>EGP 9,000</td>\n",
       "      <td>100 to 9999 km\\n•\\n2018 ... Dar al-Salaam, Cai...</td>\n",
       "      <td>https://images.olx.com.eg/thumbnails/35424012-...</td>\n",
       "    </tr>\n",
       "    <tr>\n",
       "      <th>3</th>\n",
       "      <td>Dayun ktx 250  داوين تريلا ٢٥٠</td>\n",
       "      <td>https://www.olx.com.eg/en/ad/dayun-ktx-250-%D8...</td>\n",
       "      <td>EGP 22,000</td>\n",
       "      <td>100 to 9999 km\\n•\\n2021 ... Haram, Giza•5 days...</td>\n",
       "      <td>https://images.olx.com.eg/thumbnails/35235013-...</td>\n",
       "    </tr>\n",
       "    <tr>\n",
       "      <th>4</th>\n",
       "      <td>دايو ٦ للبيع dayun 6</td>\n",
       "      <td>https://www.olx.com.eg/en/ad/%D8%AF%D8%A7%D9%8...</td>\n",
       "      <td>EGP 18,500</td>\n",
       "      <td>100 to 9999 km\\n•\\n2021 ... Matareya, Cairo•1 ...</td>\n",
       "      <td>https://images.olx.com.eg/thumbnails/34879617-...</td>\n",
       "    </tr>\n",
       "    <tr>\n",
       "      <th>...</th>\n",
       "      <td>...</td>\n",
       "      <td>...</td>\n",
       "      <td>...</td>\n",
       "      <td>...</td>\n",
       "      <td>...</td>\n",
       "    </tr>\n",
       "    <tr>\n",
       "      <th>245</th>\n",
       "      <td>تروسيكل للبيع</td>\n",
       "      <td>https://www.olx.com.eg/en/ad/%D8%AA%D8%B1%D9%8...</td>\n",
       "      <td>EGP 17,000</td>\n",
       "      <td>0 to 99 km\\n•\\n2020 ... Shubra al-Khaimah, Qal...</td>\n",
       "      <td>https://images.olx.com.eg/thumbnails/30708753-...</td>\n",
       "    </tr>\n",
       "    <tr>\n",
       "      <th>246</th>\n",
       "      <td>موتوسيكل</td>\n",
       "      <td>https://www.olx.com.eg/en/ad/%D9%85%D9%88%D8%A...</td>\n",
       "      <td>EGP 16,300</td>\n",
       "      <td>NEW\\n•\\n2022 ... Samanoud, Gharbia•2 months ago</td>\n",
       "      <td>https://images.olx.com.eg/thumbnails/30707703-...</td>\n",
       "    </tr>\n",
       "    <tr>\n",
       "      <th>247</th>\n",
       "      <td>مكنه هوجن وينج 2012</td>\n",
       "      <td>https://www.olx.com.eg/en/ad/%D9%85%D9%83%D9%8...</td>\n",
       "      <td>EGP 6,000</td>\n",
       "      <td>0 to 99 km\\n•\\n2012 ... Seyouf, Alexandria•2 m...</td>\n",
       "      <td>https://images.olx.com.eg/thumbnails/30704040-...</td>\n",
       "    </tr>\n",
       "    <tr>\n",
       "      <th>248</th>\n",
       "      <td>دايو ٤</td>\n",
       "      <td>https://www.olx.com.eg/en/ad/%D8%AF%D8%A7%D9%8...</td>\n",
       "      <td>EGP 16,000</td>\n",
       "      <td>100 to 9999 km\\n•\\n2022 ... Arbaeen, Suez•2 mo...</td>\n",
       "      <td>https://images.olx.com.eg/thumbnails/30700234-...</td>\n",
       "    </tr>\n",
       "    <tr>\n",
       "      <th>249</th>\n",
       "      <td>دايو 6 الاصليه موديل 21</td>\n",
       "      <td>https://www.olx.com.eg/en/ad/%D8%AF%D8%A7%D9%8...</td>\n",
       "      <td>EGP 17,500</td>\n",
       "      <td>Null</td>\n",
       "      <td>https://images.olx.com.eg/thumbnails/30696495-...</td>\n",
       "    </tr>\n",
       "  </tbody>\n",
       "</table>\n",
       "<p>250 rows × 5 columns</p>\n",
       "</div>"
      ],
      "text/plain": [
       "                              names  \\\n",
       "0                  Dayun max 250 cc   \n",
       "1                           Dayun 6   \n",
       "2                          dayun 2b   \n",
       "3    Dayun ktx 250  داوين تريلا ٢٥٠   \n",
       "4              دايو ٦ للبيع dayun 6   \n",
       "..                              ...   \n",
       "245                   تروسيكل للبيع   \n",
       "246                        موتوسيكل   \n",
       "247             مكنه هوجن وينج 2012   \n",
       "248                          دايو ٤   \n",
       "249         دايو 6 الاصليه موديل 21   \n",
       "\n",
       "                                                 links      prices  \\\n",
       "0    https://www.olx.com.eg/en/ad/dayun-max-250-cc-...  EGP 23,000   \n",
       "1    https://www.olx.com.eg/en/ad/dayun-6-ID1929156...  EGP 15,000   \n",
       "2    https://www.olx.com.eg/en/ad/dayun-2b-ID192889...   EGP 9,000   \n",
       "3    https://www.olx.com.eg/en/ad/dayun-ktx-250-%D8...  EGP 22,000   \n",
       "4    https://www.olx.com.eg/en/ad/%D8%AF%D8%A7%D9%8...  EGP 18,500   \n",
       "..                                                 ...         ...   \n",
       "245  https://www.olx.com.eg/en/ad/%D8%AA%D8%B1%D9%8...  EGP 17,000   \n",
       "246  https://www.olx.com.eg/en/ad/%D9%85%D9%88%D8%A...  EGP 16,300   \n",
       "247  https://www.olx.com.eg/en/ad/%D9%85%D9%83%D9%8...   EGP 6,000   \n",
       "248  https://www.olx.com.eg/en/ad/%D8%AF%D8%A7%D9%8...  EGP 16,000   \n",
       "249  https://www.olx.com.eg/en/ad/%D8%AF%D8%A7%D9%8...  EGP 17,500   \n",
       "\n",
       "                                                 infos  \\\n",
       "0        NEW\\n•\\n2021 ... Mokattam, Cairo•17 hours ago   \n",
       "1    50000 to 59999 km\\n•\\n2018 ... Laurent, Alexan...   \n",
       "2    100 to 9999 km\\n•\\n2018 ... Dar al-Salaam, Cai...   \n",
       "3    100 to 9999 km\\n•\\n2021 ... Haram, Giza•5 days...   \n",
       "4    100 to 9999 km\\n•\\n2021 ... Matareya, Cairo•1 ...   \n",
       "..                                                 ...   \n",
       "245  0 to 99 km\\n•\\n2020 ... Shubra al-Khaimah, Qal...   \n",
       "246    NEW\\n•\\n2022 ... Samanoud, Gharbia•2 months ago   \n",
       "247  0 to 99 km\\n•\\n2012 ... Seyouf, Alexandria•2 m...   \n",
       "248  100 to 9999 km\\n•\\n2022 ... Arbaeen, Suez•2 mo...   \n",
       "249                                               Null   \n",
       "\n",
       "                                              pictures  \n",
       "0    https://images.olx.com.eg/thumbnails/35636948-...  \n",
       "1    https://images.olx.com.eg/thumbnails/35559948-...  \n",
       "2    https://images.olx.com.eg/thumbnails/35424012-...  \n",
       "3    https://images.olx.com.eg/thumbnails/35235013-...  \n",
       "4    https://images.olx.com.eg/thumbnails/34879617-...  \n",
       "..                                                 ...  \n",
       "245  https://images.olx.com.eg/thumbnails/30708753-...  \n",
       "246  https://images.olx.com.eg/thumbnails/30707703-...  \n",
       "247  https://images.olx.com.eg/thumbnails/30704040-...  \n",
       "248  https://images.olx.com.eg/thumbnails/30700234-...  \n",
       "249  https://images.olx.com.eg/thumbnails/30696495-...  \n",
       "\n",
       "[250 rows x 5 columns]"
      ]
     },
     "execution_count": 25,
     "metadata": {},
     "output_type": "execute_result"
    }
   ],
   "source": [
    "df"
   ]
  },
  {
   "cell_type": "code",
   "execution_count": 26,
   "id": "a6ebe263",
   "metadata": {},
   "outputs": [],
   "source": [
    "path = os.path.join(os.getcwd(), \"df.csv\")\n",
    "df.to_csv(path_or_buf=path, encoding = 'utf-8')"
   ]
  },
  {
   "cell_type": "code",
   "execution_count": null,
   "id": "92028db3",
   "metadata": {},
   "outputs": [],
   "source": []
  }
 ],
 "metadata": {
  "kernelspec": {
   "display_name": "Python 3 (ipykernel)",
   "language": "python",
   "name": "python3"
  },
  "language_info": {
   "codemirror_mode": {
    "name": "ipython",
    "version": 3
   },
   "file_extension": ".py",
   "mimetype": "text/x-python",
   "name": "python",
   "nbconvert_exporter": "python",
   "pygments_lexer": "ipython3",
   "version": "3.9.7"
  }
 },
 "nbformat": 4,
 "nbformat_minor": 5
}
